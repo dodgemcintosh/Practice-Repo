{
 "cells": [
  {
   "cell_type": "code",
   "execution_count": 25,
   "metadata": {},
   "outputs": [],
   "source": [
    "# how do I declare the value of string and n and print it?\n",
    "\n",
    "def repeater(string, n):\n",
    "    return string * n\n",
    "\n",
    "dodge_five = repeater(string = 'Dodge', n = 5)"
   ]
  },
  {
   "cell_type": "code",
   "execution_count": 27,
   "metadata": {},
   "outputs": [
    {
     "data": {
      "text/plain": [
       "'DodgeDodgeDodge'"
      ]
     },
     "execution_count": 27,
     "metadata": {},
     "output_type": "execute_result"
    }
   ],
   "source": [
    "repeater('Dodge', 3)"
   ]
  },
  {
   "cell_type": "code",
   "execution_count": 26,
   "metadata": {},
   "outputs": [
    {
     "data": {
      "text/plain": [
       "'DodgeDodgeDodgeDodgeDodge'"
      ]
     },
     "execution_count": 26,
     "metadata": {},
     "output_type": "execute_result"
    }
   ],
   "source": [
    "dodge_five"
   ]
  },
  {
   "cell_type": "code",
   "execution_count": 1,
   "metadata": {},
   "outputs": [
    {
     "data": {
      "text/plain": [
       "'Greetings, master MciDo'"
      ]
     },
     "execution_count": 1,
     "metadata": {},
     "output_type": "execute_result"
    }
   ],
   "source": [
    "# again how do i assign a madhu grover to first and last?\n",
    "# I did not understand the area code extractor?\n",
    "\n",
    "def greet_jedi(first, last):\n",
    "    first = first.capitalize()\n",
    "    last = last.capitalize()\n",
    "    jedi_name = last[0:3] + first[0:2]\n",
    "    return 'Greetings, master ' + jedi_name\n",
    "\n",
    "greet_jedi(first = 'Dodge', last = 'McIntosh')"
   ]
  },
  {
   "cell_type": "code",
   "execution_count": 32,
   "metadata": {},
   "outputs": [
    {
     "data": {
      "text/plain": [
       "'760'"
      ]
     },
     "execution_count": 32,
     "metadata": {},
     "output_type": "execute_result"
    }
   ],
   "source": [
    "# need to understand both start and end.\n",
    "\n",
    "def area_code(text):\n",
    "    start = text.find('(')\n",
    "    end = text.find(')')\n",
    "    return text[(start + 1) : end]\n",
    "\n",
    "area_code('(760)-390-8873')"
   ]
  },
  {
   "cell_type": "code",
   "execution_count": 33,
   "metadata": {},
   "outputs": [
    {
     "data": {
      "text/plain": [
       "'-4496'"
      ]
     },
     "execution_count": 33,
     "metadata": {},
     "output_type": "execute_result"
    }
   ],
   "source": [
    "str((212)-729-3979)"
   ]
  },
  {
   "cell_type": "code",
   "execution_count": 34,
   "metadata": {},
   "outputs": [
    {
     "data": {
      "text/plain": [
       "'-449'"
      ]
     },
     "execution_count": 34,
     "metadata": {},
     "output_type": "execute_result"
    }
   ],
   "source": [
    "area_code('-4496')"
   ]
  },
  {
   "cell_type": "code",
   "execution_count": 35,
   "metadata": {},
   "outputs": [
    {
     "name": "stdout",
     "output_type": "stream",
     "text": [
      "Two roads diverged in a yellow wood.\n",
      "And sorry I could not travel both.\n",
      "And be one traveler, long I stood.\n",
      "And looked down one as far as I could.\n",
      "To where it bent in the undergrowth.\n"
     ]
    }
   ],
   "source": [
    "# I understand the split and join but do not get the flow of the logic. are we splitting when we\n",
    "# come across a full stop? then are we joining again with a \\n which is a new tab or line?\n",
    "\n",
    "def format_poem(poem):\n",
    "    sentences = poem.split('. ')\n",
    "    result = '.\\n'.join(sentences)\n",
    "    print(result)\n",
    "\n",
    "format_poem('''Two roads diverged in a yellow wood. And sorry I could not travel both. And be one traveler, long I stood. And looked down one as far as I could. To where it bent in the undergrowth.''')\n",
    "\n"
   ]
  },
  {
   "cell_type": "code",
   "execution_count": 36,
   "metadata": {},
   "outputs": [],
   "source": [
    "corpus = '''Two roads diverged in a yellow wood. And sorry I could not travel both. And be one traveler, long I stood. And looked down one as far as I could. To where it bent in the undergrowth.'''"
   ]
  },
  {
   "cell_type": "code",
   "execution_count": 40,
   "metadata": {},
   "outputs": [
    {
     "data": {
      "text/plain": [
       "['Two roads diverged in a yellow wood',\n",
       " 'And sorry I could not travel both',\n",
       " 'And be one traveler, long I stood',\n",
       " 'And looked down one as far as I could',\n",
       " 'To where it bent in the undergrowth.']"
      ]
     },
     "execution_count": 40,
     "metadata": {},
     "output_type": "execute_result"
    }
   ],
   "source": [
    "corpus.split('. ')"
   ]
  },
  {
   "cell_type": "code",
   "execution_count": 42,
   "metadata": {},
   "outputs": [
    {
     "name": "stdout",
     "output_type": "stream",
     "text": [
      "Two roads diverged in a yellow wood.\n",
      "And sorry I could not travel both.\n",
      "And be one traveler, long I stood.\n",
      "And looked down one as far as I could.\n",
      "To where it bent in the undergrowth.\n"
     ]
    }
   ],
   "source": [
    "print('.\\n'.join(corpus.split('. ')))"
   ]
  },
  {
   "cell_type": "code",
   "execution_count": 30,
   "metadata": {},
   "outputs": [
    {
     "name": "stdout",
     "output_type": "stream",
     "text": [
      "18.0\n"
     ]
    }
   ],
   "source": [
    "# what am I doing wrong here??\n",
    "\n",
    "def celsius_to_romer(temp):\n",
    "    return temp * 21/40 + 7.5\n",
    "\n",
    "print(celsius_to_romer(20))"
   ]
  },
  {
   "cell_type": "code",
   "execution_count": null,
   "metadata": {},
   "outputs": [],
   "source": [
    "# how do I add\n",
    "# if guess_blue >= 0.6 then blue otherwise red.\n",
    "\n",
    "def guess_blue(blue_start, red_start, blue_pulled, red_pulled):\n",
    "    blue_remaining = blue_start - blue_pulled\n",
    "    red_remaining = red_start - red_pulled\n",
    "    return blue_remaining / (blue_remaining + red_remaining)\n",
    "\n",
    "guess_blue(blue_start = 100, red_start = 100, blue_pulled)"
   ]
  },
  {
   "cell_type": "code",
   "execution_count": null,
   "metadata": {},
   "outputs": [],
   "source": []
  },
  {
   "cell_type": "code",
   "execution_count": null,
   "metadata": {},
   "outputs": [],
   "source": []
  },
  {
   "cell_type": "code",
   "execution_count": null,
   "metadata": {},
   "outputs": [],
   "source": []
  },
  {
   "cell_type": "code",
   "execution_count": null,
   "metadata": {},
   "outputs": [],
   "source": []
  },
  {
   "cell_type": "code",
   "execution_count": 21,
   "metadata": {},
   "outputs": [
    {
     "data": {
      "text/plain": [
       "False"
      ]
     },
     "execution_count": 21,
     "metadata": {},
     "output_type": "execute_result"
    }
   ],
   "source": [
    "# options are sunny, cloudy, rainy\n",
    "\n",
    "def take_umbrella(weather, rain_chance):\n",
    "    if weather == 'rainy':\n",
    "        return True\n",
    "    elif weather == 'cloudy' and rain_chance > .2:\n",
    "        return True\n",
    "    elif weather == 'sunny' and rain_chance > .5:\n",
    "        return True\n",
    "    else:\n",
    "        return False\n",
    "    \n",
    "take_umbrella('cloudy', .1)"
   ]
  },
  {
   "cell_type": "code",
   "execution_count": 20,
   "metadata": {},
   "outputs": [],
   "source": [
    "def take_umbrella(weather, rain_chance):\n",
    "    a = weather == 'rainy'\n",
    "    b = weather == 'cloudy' and rain_chance > 0.20\n",
    "    c = weather == 'sunny' and rain_chance > 0.50\n",
    "    return bool(a or b or c)"
   ]
  },
  {
   "cell_type": "code",
   "execution_count": null,
   "metadata": {},
   "outputs": [],
   "source": []
  },
  {
   "cell_type": "code",
   "execution_count": 12,
   "metadata": {},
   "outputs": [
    {
     "name": "stdout",
     "output_type": "stream",
     "text": [
      "11 is the sum of 5 and 6\n",
      "Nope! '5' and 'Supeoiu hfoiehgg' are incompatible data types for addition!\n"
     ]
    }
   ],
   "source": [
    "def my_add(a, b):\n",
    "    try:\n",
    "        result = a + b\n",
    "        return \"{} is the sum of {} and {}\".format(result, a, b)\n",
    "    except TypeError:\n",
    "        return \"Nope! '{}' and '{}' are incompatible data types for addition!\".format(a, b)\n",
    "    \n",
    "print(my_add(5,6))\n",
    "print(my_add(5, 'Supeoiu hfoiehgg'))"
   ]
  },
  {
   "cell_type": "markdown",
   "metadata": {},
   "source": [
    "You're playing a game with a friend involving a bag of marbles. In the bag are ten marbles:\n",
    "\n",
    "- 1 smooth red marble\n",
    "- 1 smooth yellow marble\n",
    "- 1 smooth green marble\n",
    "- 1 bumpy green marble\n",
    "- 4 bumpy red marbles\n",
    "- 2 bumpy yellow marbles\n",
    "\n",
    "\n",
    "You can see that the probability of picking a smooth red marble from the bag is 1 / 10 or 0.10 and the probability of picking a bumpy yellow marble is 2 / 10 or 0.20.\n",
    "\n",
    "The game works like this: your friend puts her hand in the bag, chooses a marble (without looking at it) and tells you whether it's bumpy or smooth. Then you have to guess which color it is before she pulls it out and reveals whether you're correct or not.\n",
    "\n",
    "You know that the information about whether the marble is bumpy or smooth changes the probability of what color it is, and you want some help with your guesses.\n",
    "\n",
    "Write a function `color_probability()` that takes two arguments: `a color ('red', 'yellow', or 'green')` and a `texture ('bumpy' or 'smooth')` and returns the probability as a decimal fraction accurate to two places.\n",
    "\n",
    "The probability should be a string and should discard any digits after the 100ths place. For example, 2 / 3 or 0.6666666666666666 would become the string '0.66'. Note this is different from rounding.\n",
    "\n",
    "As a complete example, color_probability('red', 'bumpy') should return the string '0.57'."
   ]
  },
  {
   "cell_type": "code",
   "execution_count": 13,
   "metadata": {},
   "outputs": [
    {
     "data": {
      "text/plain": [
       "'0.57'"
      ]
     },
     "execution_count": 13,
     "metadata": {},
     "output_type": "execute_result"
    }
   ],
   "source": [
    "def color_probability(color, texture):\n",
    "    if texture == 'bumpy': \n",
    "        if color == 'red':\n",
    "            prob = 4/7 \n",
    "        elif color == 'yellow': \n",
    "            prob = 2/7 \n",
    "        else: \n",
    "            prob = 1/7 \n",
    "    else:\n",
    "        prob = 1/3\n",
    "    return str(prob)[:4]\n",
    "\n",
    "color_probability('red', 'bumpy')"
   ]
  },
  {
   "cell_type": "code",
   "execution_count": null,
   "metadata": {},
   "outputs": [],
   "source": []
  },
  {
   "cell_type": "code",
   "execution_count": 4,
   "metadata": {},
   "outputs": [
    {
     "data": {
      "text/plain": [
       "[1, 1, 2, 3, 5, 8]"
      ]
     },
     "execution_count": 4,
     "metadata": {},
     "output_type": "execute_result"
    }
   ],
   "source": [
    "a_list = [1, 1, 2, 3, 5, 8, 13, 21, 34, 55, 89]\n",
    "\n",
    "less_than_ten = []\n",
    "\n",
    "for number in a_list:\n",
    "    if number < 10:\n",
    "        less_than_ten.append(number)\n",
    "\n",
    "less_than_ten"
   ]
  },
  {
   "cell_type": "code",
   "execution_count": 5,
   "metadata": {},
   "outputs": [
    {
     "data": {
      "text/plain": [
       "[1, 1, 2, 3, 5, 8]"
      ]
     },
     "execution_count": 5,
     "metadata": {},
     "output_type": "execute_result"
    }
   ],
   "source": [
    "[number for number in a_list if number < 10]"
   ]
  },
  {
   "cell_type": "code",
   "execution_count": 6,
   "metadata": {},
   "outputs": [
    {
     "data": {
      "text/plain": [
       "[2, 2, 4, 6, 10, 16]"
      ]
     },
     "execution_count": 6,
     "metadata": {},
     "output_type": "execute_result"
    }
   ],
   "source": [
    "[(number * 2) for number in a_list if number < 10]"
   ]
  },
  {
   "cell_type": "code",
   "execution_count": null,
   "metadata": {},
   "outputs": [],
   "source": []
  },
  {
   "cell_type": "code",
   "execution_count": 8,
   "metadata": {},
   "outputs": [],
   "source": [
    "first = [1, 1, 2, 3, 5, 8, 13, 21, 34, 55, 89]\n",
    "second = [1, 2, 3, 4, 5, 6, 7, 8, 9, 10, 11, 12, 13]"
   ]
  },
  {
   "cell_type": "code",
   "execution_count": 12,
   "metadata": {},
   "outputs": [
    {
     "data": {
      "text/plain": [
       "[1, 1, 2, 3, 5, 8, 13]"
      ]
     },
     "execution_count": 12,
     "metadata": {},
     "output_type": "execute_result"
    }
   ],
   "source": [
    "results = []\n",
    "\n",
    "for number in first:\n",
    "    if number in second:\n",
    "        results.append(number)\n",
    "        \n",
    "results"
   ]
  },
  {
   "cell_type": "code",
   "execution_count": 11,
   "metadata": {},
   "outputs": [
    {
     "data": {
      "text/plain": [
       "True"
      ]
     },
     "execution_count": 11,
     "metadata": {},
     "output_type": "execute_result"
    }
   ],
   "source": [
    "1 in second"
   ]
  },
  {
   "cell_type": "code",
   "execution_count": 13,
   "metadata": {},
   "outputs": [],
   "source": [
    "import pandas as pd"
   ]
  },
  {
   "cell_type": "code",
   "execution_count": 14,
   "metadata": {},
   "outputs": [],
   "source": [
    "df = pd.read_csv('movie_ratings.csv')"
   ]
  },
  {
   "cell_type": "code",
   "execution_count": 18,
   "metadata": {},
   "outputs": [
    {
     "data": {
      "text/plain": [
       "Index(['Day of Week', 'Director', 'Genre', 'Movie Title', 'Release Date',\n",
       "       'Studio', 'Adjusted Gross ($mill)', 'Budget ($mill)', 'Gross ($mill)',\n",
       "       'IMDb Rating', 'MovieLens Rating', 'Overseas ($mill)', 'Overseas%',\n",
       "       'Profit ($mill)', 'Profit%', 'Runtime (min)', 'US ($mill)',\n",
       "       'Gross % US'],\n",
       "      dtype='object')"
      ]
     },
     "execution_count": 18,
     "metadata": {},
     "output_type": "execute_result"
    }
   ],
   "source": [
    "df.columns"
   ]
  },
  {
   "cell_type": "code",
   "execution_count": 19,
   "metadata": {},
   "outputs": [
    {
     "data": {
      "text/plain": [
       "['day_of_week',\n",
       " 'director',\n",
       " 'genre',\n",
       " 'movie_title',\n",
       " 'release_date',\n",
       " 'studio',\n",
       " 'adjusted_gross_($mill)',\n",
       " 'budget_($mill)',\n",
       " 'gross_($mill)',\n",
       " 'imdb_rating',\n",
       " 'movielens_rating',\n",
       " 'overseas_($mill)',\n",
       " 'overseas%',\n",
       " 'profit_($mill)',\n",
       " 'profit%',\n",
       " 'runtime_(min)',\n",
       " 'us_($mill)',\n",
       " 'gross_%_us']"
      ]
     },
     "execution_count": 19,
     "metadata": {},
     "output_type": "execute_result"
    }
   ],
   "source": [
    "[name.lower().replace(' ', \"_\") for name in df.columns]"
   ]
  },
  {
   "cell_type": "code",
   "execution_count": 27,
   "metadata": {},
   "outputs": [
    {
     "data": {
      "text/plain": [
       "{'Day of Week': 'day_of_week',\n",
       " 'Director': 'director',\n",
       " 'Genre': 'genre',\n",
       " 'Movie Title': 'movie_title',\n",
       " 'Release Date': 'release_date',\n",
       " 'Studio': 'studio',\n",
       " 'Adjusted Gross ($mill)': 'adjusted_gross_($mill)',\n",
       " 'Budget ($mill)': 'budget_($mill)',\n",
       " 'Gross ($mill)': 'gross_($mill)',\n",
       " 'IMDb Rating': 'imdb_rating',\n",
       " 'MovieLens Rating': 'movielens_rating',\n",
       " 'Overseas ($mill)': 'overseas_($mill)',\n",
       " 'Overseas%': 'overseas%',\n",
       " 'Profit ($mill)': 'profit_($mill)',\n",
       " 'Profit%': 'profit%',\n",
       " 'Runtime (min)': 'runtime_(min)',\n",
       " 'US ($mill)': 'us_($mill)',\n",
       " 'Gross % US': 'gross_%_us'}"
      ]
     },
     "execution_count": 27,
     "metadata": {},
     "output_type": "execute_result"
    }
   ],
   "source": [
    "# Taking advantage of pandas\n",
    "old_col_names = list(df.columns)\n",
    "\n",
    "# List comprehensions\n",
    "new_col_names = [name.lower().replace(' ', \"_\") for name in old_col_names]\n",
    "\n",
    "# Base Python\n",
    "zip(old_col_names, new_col_names)\n",
    "\n",
    "# More base Python\n",
    "dict(zip(old_col_names, new_col_names))"
   ]
  },
  {
   "cell_type": "code",
   "execution_count": null,
   "metadata": {},
   "outputs": [],
   "source": []
  }
 ],
 "metadata": {
  "kernelspec": {
   "display_name": "Python 3",
   "language": "python",
   "name": "python3"
  },
  "language_info": {
   "codemirror_mode": {
    "name": "ipython",
    "version": 3
   },
   "file_extension": ".py",
   "mimetype": "text/x-python",
   "name": "python",
   "nbconvert_exporter": "python",
   "pygments_lexer": "ipython3",
   "version": "3.6.5"
  }
 },
 "nbformat": 4,
 "nbformat_minor": 2
}
